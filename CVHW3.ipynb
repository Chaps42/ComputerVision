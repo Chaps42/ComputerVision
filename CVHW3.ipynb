{
 "cells": [
  {
   "cell_type": "code",
   "execution_count": 6,
   "metadata": {},
   "outputs": [
    {
     "name": "stdout",
     "output_type": "stream",
     "text": [
      "4.6.0\n"
     ]
    }
   ],
   "source": [
    "import cv2 \n",
    "print(cv2.__version__)"
   ]
  },
  {
   "cell_type": "code",
   "execution_count": 1,
   "metadata": {},
   "outputs": [],
   "source": [
    "import numpy as np\n",
    "import cv2 as cv\n",
    "import scipy.ndimage as scidi\n",
    "import matplotlib.pyplot as plt\n",
    "from PIL import Image\n"
   ]
  },
  {
   "cell_type": "code",
   "execution_count": 6,
   "metadata": {},
   "outputs": [
    {
     "data": {
      "text/plain": [
       "True"
      ]
     },
     "execution_count": 6,
     "metadata": {},
     "output_type": "execute_result"
    }
   ],
   "source": [
    "#Question 1\n",
    "\n",
    "Q1 = cv.imread(\"HW3Q1.jpg\")\n",
    "Greyscale = cv.cvtColor(Q1,cv.COLOR_BGR2GRAY)\n",
    "Greyscale = np.invert(Greyscale)\n",
    "\n",
    "Kernal = np.asarray([[0,1,0],[1,1,1],[0,1,0]],np.uint8)\n",
    "\n",
    "#Dialate command is used to dialte the image, erode does the erosion\n",
    "P1 = cv.dilate(Greyscale,Kernal,iterations=1)\n",
    "P1 = cv.dilate(P1,Kernal,iterations=1)\n",
    "P1 = cv.erode(P1,Kernal,iterations=1)\n",
    "P1 = cv.erode(P1,Kernal,iterations=1)\n",
    "P1 = cv.dilate(P1,Kernal,iterations=1)\n",
    "\n",
    "P2 = cv.erode(Greyscale,Kernal,iterations=1)\n",
    "P2 = cv.erode(P2,Kernal,iterations=1)\n",
    "P2 = cv.dilate(P2,Kernal,iterations=1)\n",
    "P2 = cv.dilate(P2,Kernal,iterations=1)\n",
    "P2 = cv.erode(P2,Kernal,iterations=1)\n",
    "\n",
    "#Saves the image for analysis\n",
    "cv.imwrite(\"HW3Q1A.jpg\",P1)\n",
    "cv.imwrite(\"HW3Q1B.jpg\",P2)"
   ]
  },
  {
   "cell_type": "code",
   "execution_count": null,
   "metadata": {},
   "outputs": [],
   "source": [
    "#Question 2\n",
    "\n",
    "Q2 = cv.imread(\"HW3Q2.jpg\")\n",
    "Greyscale = cv.cvtColor(Q2,cv.COLOR_BGR2GRAY)\n",
    "Greyscale = np.invert(Greyscale)\n",
    "\n",
    "\n",
    "Kernal2 = np.asarray([[0,1,0],[1,1,1],[0,1,0]],np.uint8)\n",
    "\n",
    "#Can use the general morphology expansion but change the morphology operation. Operations include\n",
    "# cv.MORPH_OPEN, cv.MORPH_CLOSE, cv.MORPH_DILATE, cv.MORPH_ERODE\n",
    "P1 = cv.morphologyEx(Greyscale,cv.MORPH_DILATE,Kernal2,iterations=1)\n",
    "P1 = cv.morphologyEx(P1,cv.MORPH_ERODE,Kernal2,iterations=1)\n",
    "P1 = cv.morphologyEx(P1,cv.MORPH_ERODE,Kernal2,iterations=1)\n",
    "P1 = cv.morphologyEx(P1,cv.MORPH_ERODE,Kernal2,iterations=1)\n",
    "P1 = cv.morphologyEx(P1,cv.MORPH_ERODE,Kernal2,iterations=1)\n",
    "\n",
    "P2 = cv.morphologyEx(Greyscale,cv.MORPH_DILATE,Kernal2,iterations=1)\n",
    "P2 = cv.morphologyEx(P2,cv.MORPH_ERODE,Kernal2,iterations=1)\n",
    "P2 = cv.morphologyEx(P2,cv.MORPH_ERODE,Kernal2,iterations=1)\n",
    "P2 = cv.morphologyEx(P2,cv.MORPH_ERODE,Kernal2,iterations=1)\n",
    "P2 = cv.morphologyEx(P2,cv.MORPH_ERODE,Kernal2,iterations=1)\n",
    "\n",
    "\n",
    "\n",
    "cv.imwrite(\"HW3Q2A.jpg\",P1)\n",
    "cv.imwrite(\"HW3Q2B.jpg\",P2)"
   ]
  },
  {
   "cell_type": "code",
   "execution_count": 13,
   "metadata": {},
   "outputs": [
    {
     "name": "stdout",
     "output_type": "stream",
     "text": [
      "<class 'numpy.ndarray'>\n"
     ]
    },
    {
     "data": {
      "text/plain": [
       "True"
      ]
     },
     "execution_count": 13,
     "metadata": {},
     "output_type": "execute_result"
    }
   ],
   "source": [
    "#Question 4: \n",
    " \n",
    "Q4 = cv.imread(\"HW3Q4.jpg\")\n",
    "Q4 = cv.cvtColor(Q4,cv.COLOR_BGR2GRAY)\n",
    "Q4 = cv.resize(Q4,(100,100))\n",
    "Q4 = cv.copyMakeBorder(Q4,20,20,20,20,cv.BORDER_CONSTANT,None,100)\n",
    "print(type(Q4))\n",
    "\n",
    "Kernal4 = np.asarray([[0,1,1,0,0,1,1],[0,1,1,0,0,1,1],[0,1,1,0,0,1,1],[0,1,1,0,0,1,1],[0,1,1,0,0,1,1],[0,1,1,0,0,1,1],[0,1,1,0,0,1,1]],np.uint8)\n",
    "\n",
    "P2 = scidi.convolve(Q4,Kernal4,mode=\"reflect\")\n",
    "P3 = scidi.convolve(Q4,Kernal4,mode=\"nearest\")\n",
    "P4 = scidi.correlate(Q4,Kernal4,mode=\"nearest\")\n",
    "\n",
    "cv.imwrite(\"HW3Q4Test.jpg\",Q4)\n",
    "cv.imwrite(\"HW3Q4B.jpg\",P2)\n",
    "cv.imwrite(\"HW3Q4C.jpg\",P3)\n",
    "cv.imwrite(\"HW3Q4D.jpg\",P4)\n",
    "\n",
    "\n",
    "\n"
   ]
  },
  {
   "cell_type": "code",
   "execution_count": 50,
   "metadata": {},
   "outputs": [],
   "source": [
    "def Random_Padding(width: int, value:int, Image:np.ndarray):\n",
    "    H,W = Image.shape[0],Image.shape[1]\n",
    "    Output = np.zeros((2*width+H,2*width+W))\n",
    "    for i1,row in enumerate(Image):\n",
    "        for i2,v2 in enumerate(row):\n",
    "            Output[width+i1,width+i2] = v2\n",
    "    for j in range(width):\n",
    "        for k in range(H-1):\n",
    "            Output[j,k] = 69#Image[np.random.random_integers(0,H),np.random.random_integers(0,W)]\n",
    "            Output[-j-1,k] = 69#Image[np.random.random_integers(0,H),np.random.random_integers(0,W)]\n",
    "\n",
    "\n",
    "    for l in range(width):\n",
    "        for m in range(W-1):\n",
    "            Output[m,l] = 69#Image[np.random.random_integers(0,H),np.random.random_integers(0,W)]\n",
    "            Output[m,-l-1] = 69#Image[np.random.random_integers(0,H),np.random.random_integers(0,W)]\n",
    "    print(Output)\n",
    "\n",
    "    \n",
    "\n",
    "def Average_Padding(width: int, value:int, Image:np.ndarray):\n",
    "    H,W = Image.size[0],Image.size[1]\n"
   ]
  },
  {
   "cell_type": "code",
   "execution_count": 51,
   "metadata": {},
   "outputs": [
    {
     "ename": "IndexError",
     "evalue": "index 3028 is out of bounds for axis 1 with size 3028",
     "output_type": "error",
     "traceback": [
      "\u001b[0;31m---------------------------------------------------------------------------\u001b[0m",
      "\u001b[0;31mIndexError\u001b[0m                                Traceback (most recent call last)",
      "Cell \u001b[0;32mIn[51], line 6\u001b[0m\n\u001b[1;32m      3\u001b[0m Q7 \u001b[39m=\u001b[39m cv\u001b[39m.\u001b[39mimread(\u001b[39m\"\u001b[39m\u001b[39mHW3Q7.jpg\u001b[39m\u001b[39m\"\u001b[39m)\n\u001b[1;32m      4\u001b[0m Q7 \u001b[39m=\u001b[39m cv\u001b[39m.\u001b[39mcvtColor(Q7,cv\u001b[39m.\u001b[39mCOLOR_BGR2GRAY)\n\u001b[0;32m----> 6\u001b[0m Random_Padding(\u001b[39m2\u001b[39;49m,\u001b[39m0\u001b[39;49m,Q7)\n",
      "Cell \u001b[0;32mIn[50], line 9\u001b[0m, in \u001b[0;36mRandom_Padding\u001b[0;34m(width, value, Image)\u001b[0m\n\u001b[1;32m      7\u001b[0m \u001b[39mfor\u001b[39;00m j \u001b[39min\u001b[39;00m \u001b[39mrange\u001b[39m(width):\n\u001b[1;32m      8\u001b[0m     \u001b[39mfor\u001b[39;00m k \u001b[39min\u001b[39;00m \u001b[39mrange\u001b[39m(H\u001b[39m-\u001b[39m\u001b[39m1\u001b[39m):\n\u001b[0;32m----> 9\u001b[0m         Output[j,k] \u001b[39m=\u001b[39m \u001b[39m69\u001b[39m\u001b[39m#Image[np.random.random_integers(0,H),np.random.random_integers(0,W)]\u001b[39;00m\n\u001b[1;32m     10\u001b[0m         Output[\u001b[39m-\u001b[39mj\u001b[39m-\u001b[39m\u001b[39m1\u001b[39m,k] \u001b[39m=\u001b[39m \u001b[39m69\u001b[39m\u001b[39m#Image[np.random.random_integers(0,H),np.random.random_integers(0,W)]\u001b[39;00m\n\u001b[1;32m     13\u001b[0m \u001b[39mfor\u001b[39;00m l \u001b[39min\u001b[39;00m \u001b[39mrange\u001b[39m(width):\n",
      "\u001b[0;31mIndexError\u001b[0m: index 3028 is out of bounds for axis 1 with size 3028"
     ]
    }
   ],
   "source": [
    "#Question 7\n",
    "\n",
    "Q7 = cv.imread(\"HW3Q7.jpg\")\n",
    "Q7 = cv.cvtColor(Q7,cv.COLOR_BGR2GRAY)\n",
    "\n",
    "Random_Padding(2,0,Q7)\n",
    "\n"
   ]
  },
  {
   "cell_type": "code",
   "execution_count": null,
   "metadata": {},
   "outputs": [],
   "source": []
  }
 ],
 "metadata": {
  "kernelspec": {
   "display_name": "Python 3",
   "language": "python",
   "name": "python3"
  },
  "language_info": {
   "codemirror_mode": {
    "name": "ipython",
    "version": 3
   },
   "file_extension": ".py",
   "mimetype": "text/x-python",
   "name": "python",
   "nbconvert_exporter": "python",
   "pygments_lexer": "ipython3",
   "version": "3.9.13"
  },
  "orig_nbformat": 4,
  "vscode": {
   "interpreter": {
    "hash": "aee8b7b246df8f9039afb4144a1f6fd8d2ca17a180786b69acc140d282b71a49"
   }
  }
 },
 "nbformat": 4,
 "nbformat_minor": 2
}
