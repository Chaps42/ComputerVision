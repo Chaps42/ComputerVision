{
 "cells": [
  {
   "cell_type": "code",
   "execution_count": 5,
   "metadata": {},
   "outputs": [],
   "source": [
    "import numpy as np\n",
    "import cv2 as cv\n",
    "import scipy.ndimage as scidi\n",
    "import matplotlib.pyplot as plt\n",
    "from PIL import Image\n",
    "\n",
    "np.set_printoptions(threshold=np.inf)\n",
    "np.set_printoptions(linewidth=np.inf)"
   ]
  },
  {
   "cell_type": "code",
   "execution_count": 161,
   "metadata": {},
   "outputs": [
    {
     "data": {
      "text/plain": [
       "True"
      ]
     },
     "execution_count": 161,
     "metadata": {},
     "output_type": "execute_result"
    }
   ],
   "source": [
    "#Question 1\n",
    "\n",
    "Q1 = cv.imread(\"HW3Q1.jpg\")\n",
    "Greyscale = cv.cvtColor(Q1,cv.COLOR_BGR2GRAY)\n",
    "Greyscale = cv.resize(Greyscale,(1000,1000))\n",
    "Greyscale = np.invert(Greyscale)\n",
    "\n",
    "Kernal = np.asarray([[0,1,0],[1,1,1],[0,1,0]],np.uint8)\n",
    "\n",
    "#Dialate command is used to dialte the image, erode does the erosion\n",
    "P1 = cv.dilate(Greyscale,Kernal,iterations=1)\n",
    "P1 = cv.dilate(P1,Kernal,iterations=1)\n",
    "P1 = cv.erode(P1,Kernal,iterations=1)\n",
    "P1 = cv.erode(P1,Kernal,iterations=1)\n",
    "P1 = cv.dilate(P1,Kernal,iterations=1)\n",
    "\n",
    "P2 = cv.erode(Greyscale,Kernal,iterations=1)\n",
    "P2 = cv.erode(P2,Kernal,iterations=1)\n",
    "P2 = cv.dilate(P2,Kernal,iterations=1)\n",
    "P2 = cv.dilate(P2,Kernal,iterations=1)\n",
    "P2 = cv.erode(P2,Kernal,iterations=1)\n",
    "\n",
    "#Saves the image for analysis\n",
    "cv.imwrite(\"HW3Q1A.jpg\",P1)\n",
    "cv.imwrite(\"HW3Q1B.jpg\",P2)"
   ]
  },
  {
   "cell_type": "code",
   "execution_count": 174,
   "metadata": {},
   "outputs": [
    {
     "data": {
      "text/plain": [
       "True"
      ]
     },
     "execution_count": 174,
     "metadata": {},
     "output_type": "execute_result"
    }
   ],
   "source": [
    "#Question 2\n",
    "\n",
    "Q2 = cv.imread(\"HW3Q2.jpg\")\n",
    "Greyscale = cv.cvtColor(Q2,cv.COLOR_BGR2GRAY)\n",
    "Greyscale = np.invert(Greyscale)\n",
    "\n",
    "\n",
    "Kernal2 = np.asarray([[0,1,0],[1,1,1],[0,1,0]],np.uint8)\n",
    "\n",
    "#Can use the general morphology expansion but change the morphology operation. Operations include\n",
    "# cv.MORPH_OPEN, cv.MORPH_CLOSE, cv.MORPH_DILATE, cv.MORPH_ERODE\n",
    "P1 = cv.morphologyEx(Greyscale,cv.MORPH_ERODE,Kernal2,iterations=1)\n",
    "P2 = cv.morphologyEx(P2,cv.MORPH_ERODE,Kernal2,iterations=1)\n",
    "P2 = cv.morphologyEx(P2,cv.MORPH_ERODE,Kernal2,iterations=1)\n",
    "P2 = cv.morphologyEx(P2,cv.MORPH_CLOSE,Kernal2,iterations=1)\n",
    "P2 = cv.morphologyEx(P2,cv.MORPH_CLOSE,Kernal2,iterations=1)\n",
    "P1 = cv.morphologyEx(P1,cv.MORPH_DILATE,Kernal2,iterations=1)\n",
    "P1 = cv.morphologyEx(P1,cv.MORPH_DILATE,Kernal2,iterations=1)\n",
    "P1 = cv.morphologyEx(P1,cv.MORPH_DILATE,Kernal2,iterations=1)\n",
    "\n",
    "P2 = cv.morphologyEx(Greyscale,cv.MORPH_DILATE,Kernal2,iterations=1)\n",
    "P2 = cv.morphologyEx(P2,cv.MORPH_DILATE,Kernal2,iterations=1)\n",
    "P2 = cv.morphologyEx(P2,cv.MORPH_DILATE,Kernal2,iterations=1)\n",
    "P2 = cv.morphologyEx(P2,cv.MORPH_DILATE,Kernal2,iterations=1)\n",
    "P2 = cv.morphologyEx(P2,cv.MORPH_DILATE,Kernal2,iterations=1)\n",
    "P2 = cv.morphologyEx(P2,cv.MORPH_DILATE,Kernal2,iterations=1)\n",
    "P2 = cv.morphologyEx(P2,cv.MORPH_DILATE,Kernal2,iterations=1)\n",
    "P2 = cv.morphologyEx(P2,cv.MORPH_DILATE,Kernal2,iterations=1)\n",
    "P2 = cv.morphologyEx(P2,cv.MORPH_DILATE,Kernal2,iterations=1)\n",
    "P2 = cv.morphologyEx(P2,cv.MORPH_OPEN,Kernal2,iterations=1)\n",
    "P2 = cv.morphologyEx(P2,cv.MORPH_OPEN,Kernal2,iterations=1)\n",
    "P2 = cv.morphologyEx(P2,cv.MORPH_OPEN,Kernal2,iterations=1)\n",
    "P2 = cv.morphologyEx(P2,cv.MORPH_OPEN,Kernal2,iterations=1)\n",
    "P2 = cv.morphologyEx(P2,cv.MORPH_OPEN,Kernal2,iterations=1)\n",
    "\n",
    "\n",
    "\n",
    "\n",
    "\n",
    "cv.imwrite(\"HW3Q2A.jpg\",P1)\n",
    "cv.imwrite(\"HW3Q2B.jpg\",P2)"
   ]
  },
  {
   "cell_type": "code",
   "execution_count": 7,
   "metadata": {},
   "outputs": [
    {
     "name": "stdout",
     "output_type": "stream",
     "text": [
      "<class 'numpy.ndarray'>\n"
     ]
    },
    {
     "data": {
      "text/plain": [
       "True"
      ]
     },
     "execution_count": 7,
     "metadata": {},
     "output_type": "execute_result"
    }
   ],
   "source": [
    "#Question 4: \n",
    " \n",
    "Q4 = cv.imread(\"HW3Q4.jpg\")\n",
    "Q4 = cv.cvtColor(Q4,cv.COLOR_BGR2GRAY)\n",
    "Q4 = cv.resize(Q4,(100,100))\n",
    "Q4 = cv.copyMakeBorder(Q4,5,5,5,5,cv.BORDER_CONSTANT,None,100)\n",
    "print(type(Q4))\n",
    "\n",
    "Kernal4 = np.asarray([[0,1,1,0,0,1,1],[0,1,1,0,0,1,1],[0,1,1,0,0,1,1],[0,1,1,0,0,1,1],[0,1,1,0,0,1,1],[0,1,1,0,0,1,1],[0,1,1,0,0,1,1]],np.uint8)\n",
    "\n",
    "P2 = scidi.convolve(Q4,Kernal4,mode='reflect')\n",
    "P3 = scidi.convolve(Q4,Kernal4,mode='nearest')\n",
    "P4 = scidi.correlate(Q4,Kernal4,mode='nearest')\n",
    "\n",
    "cv.imwrite(\"HW3Q4Test.jpg\",Q4)\n",
    "cv.imwrite(\"HW3Q4B.jpg\",P2)\n",
    "cv.imwrite(\"HW3Q4C.jpg\",P3)\n",
    "cv.imwrite(\"HW3Q4D.jpg\",P4)\n",
    "\n",
    "\n",
    "\n"
   ]
  },
  {
   "cell_type": "code",
   "execution_count": 157,
   "metadata": {},
   "outputs": [],
   "source": [
    "def Random_Padding(width: int, value:int, Image:np.ndarray):\n",
    "    H,W = Image.shape[0],Image.shape[1]\n",
    "    Output = np.zeros((2*width+H,2*width+W))\n",
    "    for i1,row in enumerate(Image):\n",
    "        for i2,v2 in enumerate(row):\n",
    "            Output[width+i1,width+i2] = v2\n",
    "\n",
    "\n",
    "\n",
    "    for j in range(width):\n",
    "        for k in range(2*width+W):\n",
    "            Output[j,k] = Image[np.random.randint(0,H),np.random.randint(0,W)]\n",
    "            Output[-j-1,k] = Image[np.random.randint(0,H),np.random.randint(0,W)]\n",
    "    for j in range(width):\n",
    "        for k in range(2*width+H):\n",
    "            Output[k,j] = Image[np.random.randint(0,H),np.random.randint(0,W)]\n",
    "            Output[k,-j-1] = Image[np.random.randint(0,H),np.random.randint(0,W)]\n",
    "\n",
    "\n",
    "    return Output\n",
    "    \n",
    "\n",
    "def Average_Padding(width: int, value:int, Image:np.ndarray):\n",
    "    H,W = Image.shape[0],Image.shape[1]\n",
    "    Output = np.zeros((2*width+H,2*width+W))\n",
    "    for i1,row in enumerate(Image):\n",
    "        for i2,v2 in enumerate(row):\n",
    "            Output[width+i1,width+i2] = v2\n",
    "\n",
    "    for k in range(W): #Processing the average over each column\n",
    "        Output[0:width,k+width] = np.average(Image[:,k])\n",
    "        Output[-width:,k+width] = np.average(Image[:,k])\n",
    "    for k in range(H): #Processing the average over each row\n",
    "        Output[k+width,0:width] = np.average(Image[k,:])\n",
    "        Output[k+width,-width:] = np.average(Image[k,:])\n",
    "    for j in range(width): #Processing the average over C, the corners\n",
    "        Output[j,0:width] = np.average(Output[j,width+1:width+1+W])\n",
    "        Output[j,-width:] = np.average(Output[j,width+1:width+1+W])\n",
    "        Output[-j-1,0:width] = np.average(Output[-j-1,width+1:width+1+W])\n",
    "        Output[-j-1,-width:] = np.average(Output[-j-1,width+1:width+1+W])\n",
    "    \n",
    "    return Output\n",
    "\n"
   ]
  },
  {
   "cell_type": "code",
   "execution_count": 159,
   "metadata": {},
   "outputs": [
    {
     "data": {
      "text/plain": [
       "True"
      ]
     },
     "execution_count": 159,
     "metadata": {},
     "output_type": "execute_result"
    }
   ],
   "source": [
    "#Question 7\n",
    "n = 100\n",
    "\n",
    "Q7 = cv.imread(\"HW3Q7.jpg\")\n",
    "Q7 = cv.cvtColor(Q7,cv.COLOR_BGR2GRAY)\n",
    "Q7 = cv.resize(Q7,(n,n))\n",
    "\n",
    "Q7A = Random_Padding(3,0,Q7)\n",
    "Q7B = Random_Padding(10,0,Q7)\n",
    "Q7C = Average_Padding(3,0,Q7)\n",
    "Q7D = Average_Padding(10,0,Q7)\n",
    "\n",
    "cv.imwrite(\"HW3Q7A.jpg\",Q7A)\n",
    "cv.imwrite(\"HW3Q7B.jpg\",Q7B)\n",
    "cv.imwrite(\"HW3Q7C.jpg\",Q7C)\n",
    "cv.imwrite(\"HW3Q7D.jpg\",Q7D)\n",
    "\n",
    "\n",
    "\n"
   ]
  },
  {
   "cell_type": "code",
   "execution_count": null,
   "metadata": {},
   "outputs": [],
   "source": []
  }
 ],
 "metadata": {
  "kernelspec": {
   "display_name": "Python 3",
   "language": "python",
   "name": "python3"
  },
  "language_info": {
   "codemirror_mode": {
    "name": "ipython",
    "version": 3
   },
   "file_extension": ".py",
   "mimetype": "text/x-python",
   "name": "python",
   "nbconvert_exporter": "python",
   "pygments_lexer": "ipython3",
   "version": "3.9.13"
  },
  "orig_nbformat": 4,
  "vscode": {
   "interpreter": {
    "hash": "aee8b7b246df8f9039afb4144a1f6fd8d2ca17a180786b69acc140d282b71a49"
   }
  }
 },
 "nbformat": 4,
 "nbformat_minor": 2
}
