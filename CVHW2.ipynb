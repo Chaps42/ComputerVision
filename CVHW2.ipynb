{
 "cells": [
  {
   "cell_type": "code",
   "execution_count": 11,
   "metadata": {},
   "outputs": [],
   "source": [
    "import numpy as np\n",
    "np.set_printoptions(threshold=np.inf)"
   ]
  },
  {
   "cell_type": "code",
   "execution_count": 12,
   "metadata": {},
   "outputs": [],
   "source": [
    "### Problem 6\n",
    "\n",
    "\n",
    "def makeMeAGrid(k:int,t:int,m:int,n:int,v:int,w:int,letter:str):\n",
    "    name = \"HW2Prob6\" + letter+\".txt\"\n",
    "    Array = np.zeros(((k*m+(m+1)*t),(k*n+(n+1)*t)))\n",
    "    Array+= v\n",
    "    rows = [t+p+l*(t+k) for l in range(m) for p in range(k)]\n",
    "    cols = [t+p+l*(t+k) for l in range(n) for p in range(k)]\n",
    "    for i in rows:\n",
    "        for j in cols:\n",
    "            Array[i,j] = w\n",
    "    with open(name,'w') as f:\n",
    "        f.write(str(Array))\n",
    "    f.close()\n",
    "    return Array\n",
    "\n",
    "Ex = makeMeAGrid(2,1,1,5,9,1,\"Example\")\n"
   ]
  },
  {
   "cell_type": "code",
   "execution_count": 13,
   "metadata": {},
   "outputs": [],
   "source": [
    "Ex = makeMeAGrid(2,1,1,5,9,1,\"Example\")\n",
    "A = makeMeAGrid(1,2,2,2,3,0,\"A\")\n",
    "B = makeMeAGrid(10,2,6,8,255,128,\"B\")\n",
    "C = makeMeAGrid(4,4,2,10,255,0,\"C\")\n",
    "D = makeMeAGrid(100,1,3,8,0,255,\"D\")\n"
   ]
  },
  {
   "cell_type": "code",
   "execution_count": null,
   "metadata": {},
   "outputs": [],
   "source": []
  }
 ],
 "metadata": {
  "kernelspec": {
   "display_name": "Python 3",
   "language": "python",
   "name": "python3"
  },
  "language_info": {
   "codemirror_mode": {
    "name": "ipython",
    "version": 3
   },
   "file_extension": ".py",
   "mimetype": "text/x-python",
   "name": "python",
   "nbconvert_exporter": "python",
   "pygments_lexer": "ipython3",
   "version": "3.9.6"
  },
  "orig_nbformat": 4,
  "vscode": {
   "interpreter": {
    "hash": "397704579725e15f5c7cb49fe5f0341eb7531c82d19f2c29d197e8b64ab5776b"
   }
  }
 },
 "nbformat": 4,
 "nbformat_minor": 2
}
