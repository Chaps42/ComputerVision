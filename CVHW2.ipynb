{
 "cells": [
  {
   "cell_type": "code",
   "execution_count": 4,
   "metadata": {},
   "outputs": [],
   "source": [
    "import numpy as np\n",
    "import scipy.ndimage as scidi\n",
    "import matplotlib.pyplot as plt\n",
    "from PIL import Image\n",
    "np.set_printoptions(threshold=np.inf)\n",
    "np.set_printoptions(linewidth=np.inf)"
   ]
  },
  {
   "cell_type": "code",
   "execution_count": 2,
   "metadata": {},
   "outputs": [],
   "source": [
    "### Problem 6\n",
    "\n",
    "\n",
    "def makeMeAGrid(k:int,t:int,m:int,n:int,v:int,w:int,letter:str):\n",
    "    name = \"HW2Prob6\" + letter+\".txt\"\n",
    "    Array = np.zeros(((k*m+(m+1)*t),(k*n+(n+1)*t)))\n",
    "    Array+= v\n",
    "    rows = [t+p+l*(t+k) for l in range(m) for p in range(k)]\n",
    "    cols = [t+p+l*(t+k) for l in range(n) for p in range(k)]\n",
    "    for i in rows:\n",
    "        for j in cols:\n",
    "            Array[i,j] = w\n",
    "    with open(name,'w') as f:\n",
    "        for line in Array:\n",
    "            f.write(str(line))\n",
    "            f.write('\\n')\n",
    "    f.close()\n",
    "    return Array\n",
    "\n",
    "Ex = makeMeAGrid(2,1,1,5,9,1,\"Example\")\n"
   ]
  },
  {
   "cell_type": "code",
   "execution_count": 9,
   "metadata": {},
   "outputs": [],
   "source": [
    "Ex = makeMeAGrid(2,1,1,5,9,1,\"Example\")\n",
    "A = makeMeAGrid(1,2,2,2,3,0,\"A\")\n",
    "B = makeMeAGrid(10,2,6,8,255,128,\"B\")\n",
    "C = makeMeAGrid(4,4,2,10,255,0,\"C\")\n",
    "D = makeMeAGrid(100,1,3,8,0,255,\"D\")\n"
   ]
  },
  {
   "cell_type": "code",
   "execution_count": 11,
   "metadata": {},
   "outputs": [],
   "source": [
    "F = np.asarray([[5,2,0,1,8],[9,1,4,3,2],[3,4,0,5,1],[3,1,2,2,1]])\n",
    "H = np.asarray([[0,1,0],[1,4,1],[0,1,0]])"
   ]
  },
  {
   "cell_type": "code",
   "execution_count": 14,
   "metadata": {},
   "outputs": [
    {
     "name": "stdout",
     "output_type": "stream",
     "text": [
      "[[31 14  7 15 35]\n",
      " [45 23 20 24 20]\n",
      " [28 21 15 26 12]\n",
      " [16 13 11 16  7]]\n",
      "[[31 14  7 15 35]\n",
      " [45 23 20 24 20]\n",
      " [28 21 15 26 12]\n",
      " [16 13 11 16  7]]\n",
      "[[1200  872  488  872 1136]\n",
      " [1656 1368  960 1224 1040]\n",
      " [1280 1160 1008 1112  680]\n",
      " [ 656  688  608  696  400]]\n"
     ]
    }
   ],
   "source": [
    "print(scidi.correlate(F,H,mode = 'constant'))\n",
    "print(scidi.convolve(F,H,mode = 'constant'))\n",
    "\n",
    "\n",
    "H2 = scidi.convolve(H,H,mode = 'constant')\n",
    "H3 = scidi.convolve(H,H2,mode = 'constant')\n",
    "print(scidi.convolve(F,H3,mode = 'constant'))\n"
   ]
  },
  {
   "cell_type": "code",
   "execution_count": 19,
   "metadata": {},
   "outputs": [
    {
     "ename": "TypeError",
     "evalue": "Cannot handle this data type: (1, 1, 3, 4), |u1",
     "output_type": "error",
     "traceback": [
      "\u001b[1;31m---------------------------------------------------------------------------\u001b[0m",
      "\u001b[1;31mKeyError\u001b[0m                                  Traceback (most recent call last)",
      "File \u001b[1;32mc:\\Users\\dchap\\AppData\\Local\\Programs\\Python\\Python311\\Lib\\site-packages\\PIL\\Image.py:3080\u001b[0m, in \u001b[0;36mfromarray\u001b[1;34m(obj, mode)\u001b[0m\n\u001b[0;32m   3079\u001b[0m \u001b[39mtry\u001b[39;00m:\n\u001b[1;32m-> 3080\u001b[0m     mode, rawmode \u001b[39m=\u001b[39m _fromarray_typemap[typekey]\n\u001b[0;32m   3081\u001b[0m \u001b[39mexcept\u001b[39;00m \u001b[39mKeyError\u001b[39;00m \u001b[39mas\u001b[39;00m e:\n",
      "\u001b[1;31mKeyError\u001b[0m: ((1, 1, 3, 4), '|u1')",
      "\nThe above exception was the direct cause of the following exception:\n",
      "\u001b[1;31mTypeError\u001b[0m                                 Traceback (most recent call last)",
      "Cell \u001b[1;32mIn[19], line 7\u001b[0m\n\u001b[0;32m      5\u001b[0m pic\u001b[39m.\u001b[39msave(\u001b[39m\"\u001b[39m\u001b[39mOriginal.jpg\u001b[39m\u001b[39m\"\u001b[39m)\n\u001b[0;32m      6\u001b[0m S1 \u001b[39m=\u001b[39m scidi\u001b[39m.\u001b[39mgaussian_filter(np\u001b[39m.\u001b[39muint8(cm\u001b[39m.\u001b[39mgist_earth(numpypic)\u001b[39m*\u001b[39m\u001b[39m2.55\u001b[39m),sigma \u001b[39m=\u001b[39m \u001b[39m1\u001b[39m)\n\u001b[1;32m----> 7\u001b[0m Image\u001b[39m.\u001b[39;49mfromarray(S1)\u001b[39m.\u001b[39msave(\u001b[39m\"\u001b[39m\u001b[39mSigma1.jpg\u001b[39m\u001b[39m\"\u001b[39m)\n\u001b[0;32m      8\u001b[0m S2 \u001b[39m=\u001b[39m scidi\u001b[39m.\u001b[39mgaussian_filter(np\u001b[39m.\u001b[39muint8(cm\u001b[39m.\u001b[39mgist_earth(numpypic)\u001b[39m*\u001b[39m\u001b[39m2.55\u001b[39m),sigma \u001b[39m=\u001b[39m \u001b[39m3\u001b[39m)\n\u001b[0;32m      9\u001b[0m Image\u001b[39m.\u001b[39mfromarray(S2)\u001b[39m.\u001b[39msave(\u001b[39m\"\u001b[39m\u001b[39mSigma3.jpg\u001b[39m\u001b[39m\"\u001b[39m)\n",
      "File \u001b[1;32mc:\\Users\\dchap\\AppData\\Local\\Programs\\Python\\Python311\\Lib\\site-packages\\PIL\\Image.py:3083\u001b[0m, in \u001b[0;36mfromarray\u001b[1;34m(obj, mode)\u001b[0m\n\u001b[0;32m   3081\u001b[0m     \u001b[39mexcept\u001b[39;00m \u001b[39mKeyError\u001b[39;00m \u001b[39mas\u001b[39;00m e:\n\u001b[0;32m   3082\u001b[0m         msg \u001b[39m=\u001b[39m \u001b[39m\"\u001b[39m\u001b[39mCannot handle this data type: \u001b[39m\u001b[39m%s\u001b[39;00m\u001b[39m, \u001b[39m\u001b[39m%s\u001b[39;00m\u001b[39m\"\u001b[39m \u001b[39m%\u001b[39m typekey\n\u001b[1;32m-> 3083\u001b[0m         \u001b[39mraise\u001b[39;00m \u001b[39mTypeError\u001b[39;00m(msg) \u001b[39mfrom\u001b[39;00m \u001b[39me\u001b[39;00m\n\u001b[0;32m   3084\u001b[0m \u001b[39melse\u001b[39;00m:\n\u001b[0;32m   3085\u001b[0m     rawmode \u001b[39m=\u001b[39m mode\n",
      "\u001b[1;31mTypeError\u001b[0m: Cannot handle this data type: (1, 1, 3, 4), |u1"
     ]
    }
   ],
   "source": [
    "\n",
    "with Image.open(r\"C:\\Users\\dchap\\Documents\\OneDrive\\Pictures\\Good_Photos\\IMG_8300.jpg\") as pic:\n",
    "    numpypic = np.asarray(pic)\n",
    "    pic.save(\"Original.jpg\")\n",
    "    S1 = scidi.gaussian_filter(np.uint8(numpypic),sigma = 1)\n",
    "    Image.fromarray(S1).save(\"Sigma1.jpg\")\n",
    "    S2 = scidi.gaussian_filter(np.uint8(numpypic),sigma = 3)\n",
    "    Image.fromarray(S2).save(\"Sigma3.jpg\")\n",
    "    S3 = scidi.gaussian_filter(np.uint8(numpypic),sigma = 5)\n",
    "    Image.fromarray(S3).save(\"Sigma5.jpg\")\n",
    "    S4 = scidi.gaussian_filter(np.uint8(numpypic),sigma = 7)\n",
    "    Image.fromarray(S4).save(\"Sigma7.jpg\")\n",
    "    S5 = scidi.gaussian_filter(np.uint8(numpypic),sigma = 9)\n",
    "    Image.fromarray(S5).save(\"Sigma9.jpg\")\n"
   ]
  },
  {
   "cell_type": "code",
   "execution_count": null,
   "metadata": {},
   "outputs": [],
   "source": []
  }
 ],
 "metadata": {
  "kernelspec": {
   "display_name": "Python 3",
   "language": "python",
   "name": "python3"
  },
  "language_info": {
   "codemirror_mode": {
    "name": "ipython",
    "version": 3
   },
   "file_extension": ".py",
   "mimetype": "text/x-python",
   "name": "python",
   "nbconvert_exporter": "python",
   "pygments_lexer": "ipython3",
   "version": "3.11.1"
  },
  "orig_nbformat": 4,
  "vscode": {
   "interpreter": {
    "hash": "eb61df42a62e9ba77dc5322e9143e78270e5c3a6d4a86b91167a1c721a6e9926"
   }
  }
 },
 "nbformat": 4,
 "nbformat_minor": 2
}
