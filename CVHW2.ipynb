{
 "cells": [
  {
   "cell_type": "code",
   "execution_count": 4,
   "metadata": {},
   "outputs": [],
   "source": [
    "import numpy as np\n",
    "import scipy.ndimage as scidi\n",
    "import matplotlib.pyplot as plt\n",
    "from PIL import Image\n",
    "np.set_printoptions(threshold=np.inf)\n",
    "np.set_printoptions(linewidth=np.inf)"
   ]
  },
  {
   "cell_type": "code",
   "execution_count": 2,
   "metadata": {},
   "outputs": [],
   "source": [
    "### Problem 6\n",
    "\n",
    "\n",
    "def makeMeAGrid(k:int,t:int,m:int,n:int,v:int,w:int,letter:str):\n",
    "    name = \"HW2Prob6\" + letter+\".txt\"\n",
    "    Array = np.zeros(((k*m+(m+1)*t),(k*n+(n+1)*t)))\n",
    "    Array+= v\n",
    "    rows = [t+p+l*(t+k) for l in range(m) for p in range(k)]\n",
    "    cols = [t+p+l*(t+k) for l in range(n) for p in range(k)]\n",
    "    for i in rows:\n",
    "        for j in cols:\n",
    "            Array[i,j] = w\n",
    "    with open(name,'w') as f:\n",
    "        for line in Array:\n",
    "            f.write(str(line))\n",
    "            f.write('\\n')\n",
    "    f.close()\n",
    "    return Array\n",
    "\n",
    "Ex = makeMeAGrid(2,1,1,5,9,1,\"Example\")\n"
   ]
  },
  {
   "cell_type": "code",
   "execution_count": 9,
   "metadata": {},
   "outputs": [],
   "source": [
    "Ex = makeMeAGrid(2,1,1,5,9,1,\"Example\")\n",
    "A = makeMeAGrid(1,2,2,2,3,0,\"A\")\n",
    "B = makeMeAGrid(10,2,6,8,255,128,\"B\")\n",
    "C = makeMeAGrid(4,4,2,10,255,0,\"C\")\n",
    "D = makeMeAGrid(100,1,3,8,0,255,\"D\")\n"
   ]
  },
  {
   "cell_type": "code",
   "execution_count": 11,
   "metadata": {},
   "outputs": [],
   "source": [
    "F = np.asarray([[5,2,0,1,8],[9,1,4,3,2],[3,4,0,5,1],[3,1,2,2,1]])\n",
    "H = np.asarray([[0,1,0],[1,4,1],[0,1,0]])"
   ]
  },
  {
   "cell_type": "code",
   "execution_count": 14,
   "metadata": {},
   "outputs": [
    {
     "name": "stdout",
     "output_type": "stream",
     "text": [
      "[[31 14  7 15 35]\n",
      " [45 23 20 24 20]\n",
      " [28 21 15 26 12]\n",
      " [16 13 11 16  7]]\n",
      "[[31 14  7 15 35]\n",
      " [45 23 20 24 20]\n",
      " [28 21 15 26 12]\n",
      " [16 13 11 16  7]]\n",
      "[[1200  872  488  872 1136]\n",
      " [1656 1368  960 1224 1040]\n",
      " [1280 1160 1008 1112  680]\n",
      " [ 656  688  608  696  400]]\n"
     ]
    }
   ],
   "source": [
    "print(scidi.correlate(F,H,mode = 'constant'))\n",
    "print(scidi.convolve(F,H,mode = 'constant'))\n",
    "\n",
    "\n",
    "H2 = scidi.convolve(H,H,mode = 'constant')\n",
    "H3 = scidi.convolve(H,H2,mode = 'constant')\n",
    "print(scidi.convolve(F,H3,mode = 'constant'))\n"
   ]
  },
  {
   "cell_type": "code",
   "execution_count": 20,
   "metadata": {},
   "outputs": [],
   "source": [
    "\n",
    "with Image.open(r\"C:\\Users\\dchap\\Documents\\OneDrive\\Pictures\\Good_Photos\\IMG_8300.jpg\") as pic:\n",
    "    numpypic = np.asarray(pic)\n",
    "    pic.save(\"Original.jpg\")\n",
    "    S1 = scidi.gaussian_filter(np.uint8(numpypic),sigma = 1)\n",
    "    Image.fromarray(S1).save(\"Sigma1.jpg\")\n",
    "    S2 = scidi.gaussian_filter(np.uint8(numpypic),sigma = 3)\n",
    "    Image.fromarray(S2).save(\"Sigma3.jpg\")\n",
    "    S3 = scidi.gaussian_filter(np.uint8(numpypic),sigma = 5)\n",
    "    Image.fromarray(S3).save(\"Sigma5.jpg\")\n",
    "    S4 = scidi.gaussian_filter(np.uint8(numpypic),sigma = 7)\n",
    "    Image.fromarray(S4).save(\"Sigma7.jpg\")\n",
    "    S5 = scidi.gaussian_filter(np.uint8(numpypic),sigma = 9)\n",
    "    Image.fromarray(S5).save(\"Sigma9.jpg\")\n"
   ]
  },
  {
   "cell_type": "code",
   "execution_count": null,
   "metadata": {},
   "outputs": [],
   "source": []
  }
 ],
 "metadata": {
  "kernelspec": {
   "display_name": "Python 3",
   "language": "python",
   "name": "python3"
  },
  "language_info": {
   "codemirror_mode": {
    "name": "ipython",
    "version": 3
   },
   "file_extension": ".py",
   "mimetype": "text/x-python",
   "name": "python",
   "nbconvert_exporter": "python",
   "pygments_lexer": "ipython3",
   "version": "3.11.1"
  },
  "orig_nbformat": 4,
  "vscode": {
   "interpreter": {
    "hash": "eb61df42a62e9ba77dc5322e9143e78270e5c3a6d4a86b91167a1c721a6e9926"
   }
  }
 },
 "nbformat": 4,
 "nbformat_minor": 2
}
