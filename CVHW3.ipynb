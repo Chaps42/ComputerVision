{
 "cells": [
  {
   "cell_type": "code",
   "execution_count": null,
   "metadata": {},
   "outputs": [],
   "source": [
    "import pillow as pil\n",
    "import numpy as np\n",
    "import scipy as sp\n",
    "\n"
   ]
  }
 ],
 "metadata": {
  "kernelspec": {
   "display_name": "Python 3",
   "language": "python",
   "name": "python3"
  },
  "language_info": {
   "name": "python",
   "version": "3.11.1 (tags/v3.11.1:a7a450f, Dec  6 2022, 19:58:39) [MSC v.1934 64 bit (AMD64)]"
  },
  "orig_nbformat": 4,
  "vscode": {
   "interpreter": {
    "hash": "eb61df42a62e9ba77dc5322e9143e78270e5c3a6d4a86b91167a1c721a6e9926"
   }
  }
 },
 "nbformat": 4,
 "nbformat_minor": 2
}
